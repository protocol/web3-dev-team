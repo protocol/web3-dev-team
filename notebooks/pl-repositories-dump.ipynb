{
 "metadata": {
  "language_info": {
   "codemirror_mode": {
    "name": "ipython",
    "version": 3
   },
   "file_extension": ".py",
   "mimetype": "text/x-python",
   "name": "python",
   "nbconvert_exporter": "python",
   "pygments_lexer": "ipython3",
   "version": "3.9.2"
  },
  "orig_nbformat": 2,
  "kernelspec": {
   "name": "python3",
   "display_name": "Python 3.9.2 64-bit ('base': conda)"
  },
  "interpreter": {
   "hash": "95ec9ec1504d83f612128e0fb229072f90bbb4cb09d9d5d93b5dd26e0ca2cfd1"
  }
 },
 "nbformat": 4,
 "nbformat_minor": 2,
 "cells": [
  {
   "cell_type": "markdown",
   "source": [
    "# About\n",
    "This notebook queries the Ecosystem Dashboard to get a dump of repositories under the various PL GitHub organizations.\n",
    "\n",
    "The Ecosystem Dashboard is queried because:\n",
    "1. Avoids getting throttled by GitHub \n",
    "2. Doesn't require any API token setup\n",
    "3. Has additional metadata about our repos"
   ],
   "metadata": {}
  },
  {
   "cell_type": "code",
   "execution_count": null,
   "source": [
    "%load_ext autoreload\n",
    "%autoreload 2\n",
    "\n",
    "import pandas as pd\n",
    "import datetime\n",
    "import ecosystem_dashboard_utils"
   ],
   "outputs": [],
   "metadata": {}
  },
  {
   "cell_type": "code",
   "execution_count": null,
   "source": [
    "report_date = datetime.date.today()\n",
    "report_date_str = report_date.strftime(\"%Y-%m-%d\")"
   ],
   "outputs": [],
   "metadata": {}
  },
  {
   "cell_type": "code",
   "execution_count": null,
   "source": [
    "# Fetch repo data from the Ecosystem Dasbhaord\n",
    "ipfs_repos_path = f\"ipfs-repos-{report_date_str}.json\"\n",
    "ecosystem_dashboard_utils.dump_api(unpaginated_url=\"https://ipfs.ecosystem-dashboard.com/repositories.json?\", output_path=ipfs_repos_path)\n",
    "filecoin_repos_path = f\"filecoin-repos-{report_date_str}.json\"\n",
    "ecosystem_dashboard_utils.dump_api(unpaginated_url=\"https://filecoin.ecosystem-dashboard.com/repositories.json?\", output_path=filecoin_repos_path)"
   ],
   "outputs": [],
   "metadata": {}
  },
  {
   "cell_type": "code",
   "execution_count": null,
   "source": [
    "# Read the data into Pandas\n",
    "df = pd.read_json(ipfs_repos_path, orient='records').append(pd.read_json(filecoin_repos_path, orient='records'), ignore_index=True)\n",
    "df = df.set_index(\"github_id\")\n",
    "df"
   ],
   "outputs": [],
   "metadata": {}
  },
  {
   "cell_type": "code",
   "execution_count": null,
   "source": [
    "# Put the most import columns first\n",
    "p1_col_names = [\n",
    "    'org',\n",
    "    'full_name',\n",
    "    'language',\n",
    "    'score',\n",
    "    'stargazers_count',\n",
    "    'forks_count',\n",
    "    'subscribers_count',\n",
    "    'open_issues_count',\n",
    "    'archived',\n",
    "    'description',\n",
    "]\n",
    "p2_col_names = df.columns.to_list()\n",
    "for p1_col_name in p1_col_names:\n",
    "    p2_col_names.remove(p1_col_name)\n",
    "\n",
    "ordered_col_names = []\n",
    "ordered_col_names.extend(p1_col_names)\n",
    "ordered_col_names.extend(p2_col_names)\n",
    "ordered_col_names"
   ],
   "outputs": [],
   "metadata": {}
  },
  {
   "cell_type": "code",
   "execution_count": null,
   "source": [
    "df = df[ordered_col_names]\n",
    "df"
   ],
   "outputs": [],
   "metadata": {}
  },
  {
   "cell_type": "code",
   "execution_count": null,
   "source": [
    "df = df.sort_values(by=[\"org\", \"language\", \"score\", \"full_name\"], ascending=[True, True, False, True])\n",
    "df"
   ],
   "outputs": [],
   "metadata": {}
  },
  {
   "cell_type": "code",
   "execution_count": null,
   "source": [
    "df.to_csv(f\"pl-repos-cleaned-{report_date_str}.csv\")"
   ],
   "outputs": [],
   "metadata": {}
  },
  {
   "cell_type": "markdown",
   "source": [
    "# Additional analsysis example: filter to active JS repos\n",
    "Filter down to the list of repos that are JS-based"
   ],
   "metadata": {}
  },
  {
   "cell_type": "code",
   "execution_count": null,
   "source": [
    "js_df = df[((df['language'] == \"JavaScript\") | (df['language'] == \"TypeScript\")) & (df['archived'] != True)]\n",
    "js_df"
   ],
   "outputs": [],
   "metadata": {}
  },
  {
   "cell_type": "code",
   "execution_count": null,
   "source": [
    "js_df.to_csv(f\"pl-js-active-repos-cleaned-{report_date_str}.csv\")"
   ],
   "outputs": [],
   "metadata": {}
  }
 ]
}