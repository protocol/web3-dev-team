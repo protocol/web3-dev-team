{
 "metadata": {
  "language_info": {
   "codemirror_mode": {
    "name": "ipython",
    "version": 3
   },
   "file_extension": ".py",
   "mimetype": "text/x-python",
   "name": "python",
   "nbconvert_exporter": "python",
   "pygments_lexer": "ipython3",
   "version": "3.9.2"
  },
  "orig_nbformat": 4,
  "kernelspec": {
   "name": "python3",
   "display_name": "Python 3.9.2 64-bit ('base': conda)"
  },
  "interpreter": {
   "hash": "95ec9ec1504d83f612128e0fb229072f90bbb4cb09d9d5d93b5dd26e0ca2cfd1"
  }
 },
 "nbformat": 4,
 "nbformat_minor": 2,
 "cells": [
  {
   "cell_type": "code",
   "execution_count": 2,
   "metadata": {},
   "outputs": [
    {
     "output_type": "error",
     "ename": "FileNotFoundError",
     "evalue": "[Errno 2] No such file or directory: '/Users/sal/.credentials/credentials.json'",
     "traceback": [
      "\u001b[0;31m---------------------------------------------------------------------------\u001b[0m",
      "\u001b[0;31mFileNotFoundError\u001b[0m                         Traceback (most recent call last)",
      "\u001b[0;32m<ipython-input-2-42598ecfb97d>\u001b[0m in \u001b[0;36m<module>\u001b[0;34m\u001b[0m\n\u001b[1;32m      1\u001b[0m \u001b[0;32mfrom\u001b[0m \u001b[0mgcsa\u001b[0m\u001b[0;34m.\u001b[0m\u001b[0mgoogle_calendar\u001b[0m \u001b[0;32mimport\u001b[0m \u001b[0mGoogleCalendar\u001b[0m\u001b[0;34m\u001b[0m\u001b[0;34m\u001b[0m\u001b[0m\n\u001b[1;32m      2\u001b[0m \u001b[0;34m\u001b[0m\u001b[0m\n\u001b[0;32m----> 3\u001b[0;31m \u001b[0mcalendar\u001b[0m \u001b[0;34m=\u001b[0m \u001b[0mGoogleCalendar\u001b[0m\u001b[0;34m(\u001b[0m\u001b[0;34m'steve.loeppky@protocol.ai'\u001b[0m\u001b[0;34m)\u001b[0m\u001b[0;34m\u001b[0m\u001b[0;34m\u001b[0m\u001b[0m\n\u001b[0m\u001b[1;32m      4\u001b[0m \u001b[0;32mfor\u001b[0m \u001b[0mevent\u001b[0m \u001b[0;32min\u001b[0m \u001b[0mcalendar\u001b[0m\u001b[0;34m:\u001b[0m\u001b[0;34m\u001b[0m\u001b[0;34m\u001b[0m\u001b[0m\n\u001b[1;32m      5\u001b[0m     \u001b[0mprint\u001b[0m\u001b[0;34m(\u001b[0m\u001b[0mevent\u001b[0m\u001b[0;34m)\u001b[0m\u001b[0;34m\u001b[0m\u001b[0;34m\u001b[0m\u001b[0m\n",
      "\u001b[0;32m/opt/homebrew/Caskroom/miniforge/base/lib/python3.9/site-packages/gcsa/google_calendar.py\u001b[0m in \u001b[0;36m__init__\u001b[0;34m(self, calendar, credentials, credentials_path, token_path, save_token, read_only, authentication_flow_host, authentication_flow_port)\u001b[0m\n\u001b[1;32m     87\u001b[0m             \u001b[0mscopes\u001b[0m \u001b[0;34m=\u001b[0m \u001b[0;34m[\u001b[0m\u001b[0mself\u001b[0m\u001b[0;34m.\u001b[0m\u001b[0m_READ_WRITE_SCOPES\u001b[0m \u001b[0;34m+\u001b[0m \u001b[0;34m(\u001b[0m\u001b[0;34m'.readonly'\u001b[0m \u001b[0;32mif\u001b[0m \u001b[0mread_only\u001b[0m \u001b[0;32melse\u001b[0m \u001b[0;34m''\u001b[0m\u001b[0;34m)\u001b[0m\u001b[0;34m]\u001b[0m\u001b[0;34m\u001b[0m\u001b[0;34m\u001b[0m\u001b[0m\n\u001b[1;32m     88\u001b[0m \u001b[0;34m\u001b[0m\u001b[0m\n\u001b[0;32m---> 89\u001b[0;31m             self.credentials = self._get_credentials(\n\u001b[0m\u001b[1;32m     90\u001b[0m                 \u001b[0mtoken_path\u001b[0m\u001b[0;34m,\u001b[0m\u001b[0;34m\u001b[0m\u001b[0;34m\u001b[0m\u001b[0m\n\u001b[1;32m     91\u001b[0m                 \u001b[0mcredentials_dir\u001b[0m\u001b[0;34m,\u001b[0m\u001b[0;34m\u001b[0m\u001b[0;34m\u001b[0m\u001b[0m\n",
      "\u001b[0;32m/opt/homebrew/Caskroom/miniforge/base/lib/python3.9/site-packages/gcsa/google_calendar.py\u001b[0m in \u001b[0;36m_get_credentials\u001b[0;34m(token_path, credentials_dir, credentials_file, scopes, save_token, host, port)\u001b[0m\n\u001b[1;32m    127\u001b[0m             \u001b[0;32melse\u001b[0m\u001b[0;34m:\u001b[0m\u001b[0;34m\u001b[0m\u001b[0;34m\u001b[0m\u001b[0m\n\u001b[1;32m    128\u001b[0m                 \u001b[0mcredentials_path\u001b[0m \u001b[0;34m=\u001b[0m \u001b[0mos\u001b[0m\u001b[0;34m.\u001b[0m\u001b[0mpath\u001b[0m\u001b[0;34m.\u001b[0m\u001b[0mjoin\u001b[0m\u001b[0;34m(\u001b[0m\u001b[0mcredentials_dir\u001b[0m\u001b[0;34m,\u001b[0m \u001b[0mcredentials_file\u001b[0m\u001b[0;34m)\u001b[0m\u001b[0;34m\u001b[0m\u001b[0;34m\u001b[0m\u001b[0m\n\u001b[0;32m--> 129\u001b[0;31m                 \u001b[0mflow\u001b[0m \u001b[0;34m=\u001b[0m \u001b[0mInstalledAppFlow\u001b[0m\u001b[0;34m.\u001b[0m\u001b[0mfrom_client_secrets_file\u001b[0m\u001b[0;34m(\u001b[0m\u001b[0mcredentials_path\u001b[0m\u001b[0;34m,\u001b[0m \u001b[0mscopes\u001b[0m\u001b[0;34m)\u001b[0m\u001b[0;34m\u001b[0m\u001b[0;34m\u001b[0m\u001b[0m\n\u001b[0m\u001b[1;32m    130\u001b[0m                 \u001b[0mcredentials\u001b[0m \u001b[0;34m=\u001b[0m \u001b[0mflow\u001b[0m\u001b[0;34m.\u001b[0m\u001b[0mrun_local_server\u001b[0m\u001b[0;34m(\u001b[0m\u001b[0mhost\u001b[0m\u001b[0;34m=\u001b[0m\u001b[0mhost\u001b[0m\u001b[0;34m,\u001b[0m \u001b[0mport\u001b[0m\u001b[0;34m=\u001b[0m\u001b[0mport\u001b[0m\u001b[0;34m)\u001b[0m\u001b[0;34m\u001b[0m\u001b[0;34m\u001b[0m\u001b[0m\n\u001b[1;32m    131\u001b[0m \u001b[0;34m\u001b[0m\u001b[0m\n",
      "\u001b[0;32m/opt/homebrew/Caskroom/miniforge/base/lib/python3.9/site-packages/google_auth_oauthlib/flow.py\u001b[0m in \u001b[0;36mfrom_client_secrets_file\u001b[0;34m(cls, client_secrets_file, scopes, **kwargs)\u001b[0m\n\u001b[1;32m    201\u001b[0m             \u001b[0mFlow\u001b[0m\u001b[0;34m:\u001b[0m \u001b[0mThe\u001b[0m \u001b[0mconstructed\u001b[0m \u001b[0mFlow\u001b[0m \u001b[0minstance\u001b[0m\u001b[0;34m.\u001b[0m\u001b[0;34m\u001b[0m\u001b[0;34m\u001b[0m\u001b[0m\n\u001b[1;32m    202\u001b[0m         \"\"\"\n\u001b[0;32m--> 203\u001b[0;31m         \u001b[0;32mwith\u001b[0m \u001b[0mopen\u001b[0m\u001b[0;34m(\u001b[0m\u001b[0mclient_secrets_file\u001b[0m\u001b[0;34m,\u001b[0m \u001b[0;34m\"r\"\u001b[0m\u001b[0;34m)\u001b[0m \u001b[0;32mas\u001b[0m \u001b[0mjson_file\u001b[0m\u001b[0;34m:\u001b[0m\u001b[0;34m\u001b[0m\u001b[0;34m\u001b[0m\u001b[0m\n\u001b[0m\u001b[1;32m    204\u001b[0m             \u001b[0mclient_config\u001b[0m \u001b[0;34m=\u001b[0m \u001b[0mjson\u001b[0m\u001b[0;34m.\u001b[0m\u001b[0mload\u001b[0m\u001b[0;34m(\u001b[0m\u001b[0mjson_file\u001b[0m\u001b[0;34m)\u001b[0m\u001b[0;34m\u001b[0m\u001b[0;34m\u001b[0m\u001b[0m\n\u001b[1;32m    205\u001b[0m \u001b[0;34m\u001b[0m\u001b[0m\n",
      "\u001b[0;31mFileNotFoundError\u001b[0m: [Errno 2] No such file or directory: '/Users/sal/.credentials/credentials.json'"
     ]
    }
   ],
   "source": [
    "from gcsa.google_calendar import GoogleCalendar\n",
    "\n",
    "calendar = GoogleCalendar('steve.loeppky@protocol.ai', )\n",
    "for event in calendar:\n",
    "    print(event)"
   ]
  },
  {
   "cell_type": "code",
   "execution_count": 4,
   "metadata": {},
   "outputs": [],
   "source": [
    "import pandas as pd"
   ]
  },
  {
   "cell_type": "code",
   "execution_count": 13,
   "metadata": {},
   "outputs": [],
   "source": [
    "teams_df = pd.read_excel(\"Oncall Calendar Creation Input Data.xlsx\", engine=\"openpyxl\", sheet_name=\"Teams\", index_col=\"name\")\n",
    "leaders_df = pd.read_excel(\"Oncall Calendar Creation Input Data.xlsx\", engine=\"openpyxl\", sheet_name=\"Leaders\", index_col=\"name\")\n",
    "oncalls_df = pd.read_excel(\"Oncall Calendar Creation Input Data.xlsx\", engine=\"openpyxl\", sheet_name=\"Oncalls\", index_col=\"name\")"
   ]
  },
  {
   "cell_type": "code",
   "execution_count": 14,
   "metadata": {},
   "outputs": [
    {
     "output_type": "execute_result",
     "data": {
      "text/plain": [
       "           emoji     tech lead            manager\n",
       "name                                             \n",
       "Avengers       🦸  Steve Rogers          Nick Fury\n",
       "Rebels         🤜   Leia Organa     Admiral Ackbar\n",
       "Empire         🪖   Darth Vader  Emperor Palpatine\n",
       "Fellowship     💍        Aragon            Gandalf"
      ],
      "text/html": "<div>\n<style scoped>\n    .dataframe tbody tr th:only-of-type {\n        vertical-align: middle;\n    }\n\n    .dataframe tbody tr th {\n        vertical-align: top;\n    }\n\n    .dataframe thead th {\n        text-align: right;\n    }\n</style>\n<table border=\"1\" class=\"dataframe\">\n  <thead>\n    <tr style=\"text-align: right;\">\n      <th></th>\n      <th>emoji</th>\n      <th>tech lead</th>\n      <th>manager</th>\n    </tr>\n    <tr>\n      <th>name</th>\n      <th></th>\n      <th></th>\n      <th></th>\n    </tr>\n  </thead>\n  <tbody>\n    <tr>\n      <th>Avengers</th>\n      <td>🦸</td>\n      <td>Steve Rogers</td>\n      <td>Nick Fury</td>\n    </tr>\n    <tr>\n      <th>Rebels</th>\n      <td>🤜</td>\n      <td>Leia Organa</td>\n      <td>Admiral Ackbar</td>\n    </tr>\n    <tr>\n      <th>Empire</th>\n      <td>🪖</td>\n      <td>Darth Vader</td>\n      <td>Emperor Palpatine</td>\n    </tr>\n    <tr>\n      <th>Fellowship</th>\n      <td>💍</td>\n      <td>Aragon</td>\n      <td>Gandalf</td>\n    </tr>\n  </tbody>\n</table>\n</div>"
     },
     "metadata": {},
     "execution_count": 14
    }
   ],
   "source": [
    "teams_df"
   ]
  },
  {
   "cell_type": "code",
   "execution_count": 17,
   "metadata": {},
   "outputs": [
    {
     "output_type": "execute_result",
     "data": {
      "text/plain": [
       "           emoji     tech lead            manager     tech lead email  \\\n",
       "name                                                                    \n",
       "Avengers       🦸  Steve Rogers          Nick Fury   steve@example.com   \n",
       "Rebels         🤜   Leia Organa     Admiral Ackbar    leia@example.com   \n",
       "Empire         🪖   Darth Vader  Emperor Palpatine   vader@example.com   \n",
       "Fellowship     💍        Aragon            Gandalf  aragon@example.com   \n",
       "\n",
       "                    manager email  \n",
       "name                               \n",
       "Avengers         nick@example.com  \n",
       "Rebels         ackbar@example.com  \n",
       "Empire      palpatine@example.com  \n",
       "Fellowship    gandalf@example.com  "
      ],
      "text/html": "<div>\n<style scoped>\n    .dataframe tbody tr th:only-of-type {\n        vertical-align: middle;\n    }\n\n    .dataframe tbody tr th {\n        vertical-align: top;\n    }\n\n    .dataframe thead th {\n        text-align: right;\n    }\n</style>\n<table border=\"1\" class=\"dataframe\">\n  <thead>\n    <tr style=\"text-align: right;\">\n      <th></th>\n      <th>emoji</th>\n      <th>tech lead</th>\n      <th>manager</th>\n      <th>tech lead email</th>\n      <th>manager email</th>\n    </tr>\n    <tr>\n      <th>name</th>\n      <th></th>\n      <th></th>\n      <th></th>\n      <th></th>\n      <th></th>\n    </tr>\n  </thead>\n  <tbody>\n    <tr>\n      <th>Avengers</th>\n      <td>🦸</td>\n      <td>Steve Rogers</td>\n      <td>Nick Fury</td>\n      <td>steve@example.com</td>\n      <td>nick@example.com</td>\n    </tr>\n    <tr>\n      <th>Rebels</th>\n      <td>🤜</td>\n      <td>Leia Organa</td>\n      <td>Admiral Ackbar</td>\n      <td>leia@example.com</td>\n      <td>ackbar@example.com</td>\n    </tr>\n    <tr>\n      <th>Empire</th>\n      <td>🪖</td>\n      <td>Darth Vader</td>\n      <td>Emperor Palpatine</td>\n      <td>vader@example.com</td>\n      <td>palpatine@example.com</td>\n    </tr>\n    <tr>\n      <th>Fellowship</th>\n      <td>💍</td>\n      <td>Aragon</td>\n      <td>Gandalf</td>\n      <td>aragon@example.com</td>\n      <td>gandalf@example.com</td>\n    </tr>\n  </tbody>\n</table>\n</div>"
     },
     "metadata": {},
     "execution_count": 17
    }
   ],
   "source": [
    "teams_with_emails_df = teams_df.join(other=leaders_df, on=\"tech lead\").rename(columns={\"email\": \"tech lead email\"})\n",
    "teams_with_emails_df = teams_with_emails_df.join(other=leaders_df, on=\"manager\").rename(columns={\"email\": \"manager email\"})\n",
    "teams_with_emails_df"
   ]
  },
  {
   "cell_type": "code",
   "execution_count": 21,
   "metadata": {},
   "outputs": [
    {
     "output_type": "execute_result",
     "data": {
      "text/plain": [
       "                    rotation        team                     email emoji  \\\n",
       "name                                                                       \n",
       "Hulk                Filecoin    Avengers          hulk@example.com     🦸   \n",
       "War Machine         Filecoin    Avengers    warmachine@example.com     🦸   \n",
       "Falcon              Filecoin    Avengers        falcon@example.com     🦸   \n",
       "Nebula              Filecoin    Avengers        nebula@example.com     🦸   \n",
       "Iron Man                  Go    Avengers       ironman@example.com     🦸   \n",
       "Black Widow               Go    Avengers    blackwidow@example.com     🦸   \n",
       "Vision                    Go    Avengers        vision@example.com     🦸   \n",
       "Spider-Man                Go    Avengers     spiderman@example.com     🦸   \n",
       "Rocket                    Go    Avengers        rocket@example.com     🦸   \n",
       "Thor Odinson      JavaScript    Avengers          thor@example.com     🦸   \n",
       "Hawkeye           JavaScript    Avengers       hawkeye@example.com     🦸   \n",
       "Scarlet Witch     JavaScript    Avengers  scarletwitch@example.com     🦸   \n",
       "Ant-Man           JavaScript    Avengers        antman@example.com     🦸   \n",
       "Count Dooku         Filecoin      Empire         dooku@example.com     🪖   \n",
       "IG-88               Filecoin      Empire          ig88@example.com     🪖   \n",
       "Boba Fett                 Go      Empire          boba@example.com     🪖   \n",
       "Jabba the Hutt            Go      Empire         jabba@example.com     🪖   \n",
       "Kylo Ren          JavaScript      Empire          kylo@example.com     🪖   \n",
       "Jango Fett        JavaScript      Empire         jango@example.com     🪖   \n",
       "Samwise             Filecoin  Fellowship       samwise@example.com     💍   \n",
       "Boromir             Filecoin  Fellowship       boromir@example.com     💍   \n",
       "Merry                     Go  Fellowship         merry@example.com     💍   \n",
       "Legolas                   Go  Fellowship       legolas@example.com     💍   \n",
       "Frodo             JavaScript  Fellowship         frodo@example.com     💍   \n",
       "Pippin            JavaScript  Fellowship        pippin@example.com     💍   \n",
       "Gimli             JavaScript  Fellowship         gimli@example.com     💍   \n",
       "Lando Calrissian    Filecoin      Rebels         lando@example.com     🤜   \n",
       "Obi-Wan Kenobi      Filecoin      Rebels        kenobi@example.com     🤜   \n",
       "Han Solo            Filecoin      Rebels           han@example.com     🤜   \n",
       "Mace Windu          Filecoin      Rebels          mace@example.com     🤜   \n",
       "Chewbacca                 Go      Rebels        chewie@example.com     🤜   \n",
       "R2-D2                     Go      Rebels          r2d2@example.com     🤜   \n",
       "Ahsoka Tano               Go      Rebels        ahsoka@example.com     🤜   \n",
       "Yoda                      Go      Rebels          yoda@example.com     🤜   \n",
       "Qui-Gon Jinn      JavaScript      Rebels           qgc@example.com     🤜   \n",
       "Luke Skywalker    JavaScript      Rebels          luke@example.com     🤜   \n",
       "Wedge Antilles    JavaScript      Rebels         wedge@example.com     🤜   \n",
       "\n",
       "                     tech lead            manager     tech lead email  \\\n",
       "name                                                                    \n",
       "Hulk              Steve Rogers          Nick Fury   steve@example.com   \n",
       "War Machine       Steve Rogers          Nick Fury   steve@example.com   \n",
       "Falcon            Steve Rogers          Nick Fury   steve@example.com   \n",
       "Nebula            Steve Rogers          Nick Fury   steve@example.com   \n",
       "Iron Man          Steve Rogers          Nick Fury   steve@example.com   \n",
       "Black Widow       Steve Rogers          Nick Fury   steve@example.com   \n",
       "Vision            Steve Rogers          Nick Fury   steve@example.com   \n",
       "Spider-Man        Steve Rogers          Nick Fury   steve@example.com   \n",
       "Rocket            Steve Rogers          Nick Fury   steve@example.com   \n",
       "Thor Odinson      Steve Rogers          Nick Fury   steve@example.com   \n",
       "Hawkeye           Steve Rogers          Nick Fury   steve@example.com   \n",
       "Scarlet Witch     Steve Rogers          Nick Fury   steve@example.com   \n",
       "Ant-Man           Steve Rogers          Nick Fury   steve@example.com   \n",
       "Count Dooku        Darth Vader  Emperor Palpatine   vader@example.com   \n",
       "IG-88              Darth Vader  Emperor Palpatine   vader@example.com   \n",
       "Boba Fett          Darth Vader  Emperor Palpatine   vader@example.com   \n",
       "Jabba the Hutt     Darth Vader  Emperor Palpatine   vader@example.com   \n",
       "Kylo Ren           Darth Vader  Emperor Palpatine   vader@example.com   \n",
       "Jango Fett         Darth Vader  Emperor Palpatine   vader@example.com   \n",
       "Samwise                 Aragon            Gandalf  aragon@example.com   \n",
       "Boromir                 Aragon            Gandalf  aragon@example.com   \n",
       "Merry                   Aragon            Gandalf  aragon@example.com   \n",
       "Legolas                 Aragon            Gandalf  aragon@example.com   \n",
       "Frodo                   Aragon            Gandalf  aragon@example.com   \n",
       "Pippin                  Aragon            Gandalf  aragon@example.com   \n",
       "Gimli                   Aragon            Gandalf  aragon@example.com   \n",
       "Lando Calrissian   Leia Organa     Admiral Ackbar    leia@example.com   \n",
       "Obi-Wan Kenobi     Leia Organa     Admiral Ackbar    leia@example.com   \n",
       "Han Solo           Leia Organa     Admiral Ackbar    leia@example.com   \n",
       "Mace Windu         Leia Organa     Admiral Ackbar    leia@example.com   \n",
       "Chewbacca          Leia Organa     Admiral Ackbar    leia@example.com   \n",
       "R2-D2              Leia Organa     Admiral Ackbar    leia@example.com   \n",
       "Ahsoka Tano        Leia Organa     Admiral Ackbar    leia@example.com   \n",
       "Yoda               Leia Organa     Admiral Ackbar    leia@example.com   \n",
       "Qui-Gon Jinn       Leia Organa     Admiral Ackbar    leia@example.com   \n",
       "Luke Skywalker     Leia Organa     Admiral Ackbar    leia@example.com   \n",
       "Wedge Antilles     Leia Organa     Admiral Ackbar    leia@example.com   \n",
       "\n",
       "                          manager email  \n",
       "name                                     \n",
       "Hulk                   nick@example.com  \n",
       "War Machine            nick@example.com  \n",
       "Falcon                 nick@example.com  \n",
       "Nebula                 nick@example.com  \n",
       "Iron Man               nick@example.com  \n",
       "Black Widow            nick@example.com  \n",
       "Vision                 nick@example.com  \n",
       "Spider-Man             nick@example.com  \n",
       "Rocket                 nick@example.com  \n",
       "Thor Odinson           nick@example.com  \n",
       "Hawkeye                nick@example.com  \n",
       "Scarlet Witch          nick@example.com  \n",
       "Ant-Man                nick@example.com  \n",
       "Count Dooku       palpatine@example.com  \n",
       "IG-88             palpatine@example.com  \n",
       "Boba Fett         palpatine@example.com  \n",
       "Jabba the Hutt    palpatine@example.com  \n",
       "Kylo Ren          palpatine@example.com  \n",
       "Jango Fett        palpatine@example.com  \n",
       "Samwise             gandalf@example.com  \n",
       "Boromir             gandalf@example.com  \n",
       "Merry               gandalf@example.com  \n",
       "Legolas             gandalf@example.com  \n",
       "Frodo               gandalf@example.com  \n",
       "Pippin              gandalf@example.com  \n",
       "Gimli               gandalf@example.com  \n",
       "Lando Calrissian     ackbar@example.com  \n",
       "Obi-Wan Kenobi       ackbar@example.com  \n",
       "Han Solo             ackbar@example.com  \n",
       "Mace Windu           ackbar@example.com  \n",
       "Chewbacca            ackbar@example.com  \n",
       "R2-D2                ackbar@example.com  \n",
       "Ahsoka Tano          ackbar@example.com  \n",
       "Yoda                 ackbar@example.com  \n",
       "Qui-Gon Jinn         ackbar@example.com  \n",
       "Luke Skywalker       ackbar@example.com  \n",
       "Wedge Antilles       ackbar@example.com  "
      ],
      "text/html": "<div>\n<style scoped>\n    .dataframe tbody tr th:only-of-type {\n        vertical-align: middle;\n    }\n\n    .dataframe tbody tr th {\n        vertical-align: top;\n    }\n\n    .dataframe thead th {\n        text-align: right;\n    }\n</style>\n<table border=\"1\" class=\"dataframe\">\n  <thead>\n    <tr style=\"text-align: right;\">\n      <th></th>\n      <th>rotation</th>\n      <th>team</th>\n      <th>email</th>\n      <th>emoji</th>\n      <th>tech lead</th>\n      <th>manager</th>\n      <th>tech lead email</th>\n      <th>manager email</th>\n    </tr>\n    <tr>\n      <th>name</th>\n      <th></th>\n      <th></th>\n      <th></th>\n      <th></th>\n      <th></th>\n      <th></th>\n      <th></th>\n      <th></th>\n    </tr>\n  </thead>\n  <tbody>\n    <tr>\n      <th>Hulk</th>\n      <td>Filecoin</td>\n      <td>Avengers</td>\n      <td>hulk@example.com</td>\n      <td>🦸</td>\n      <td>Steve Rogers</td>\n      <td>Nick Fury</td>\n      <td>steve@example.com</td>\n      <td>nick@example.com</td>\n    </tr>\n    <tr>\n      <th>War Machine</th>\n      <td>Filecoin</td>\n      <td>Avengers</td>\n      <td>warmachine@example.com</td>\n      <td>🦸</td>\n      <td>Steve Rogers</td>\n      <td>Nick Fury</td>\n      <td>steve@example.com</td>\n      <td>nick@example.com</td>\n    </tr>\n    <tr>\n      <th>Falcon</th>\n      <td>Filecoin</td>\n      <td>Avengers</td>\n      <td>falcon@example.com</td>\n      <td>🦸</td>\n      <td>Steve Rogers</td>\n      <td>Nick Fury</td>\n      <td>steve@example.com</td>\n      <td>nick@example.com</td>\n    </tr>\n    <tr>\n      <th>Nebula</th>\n      <td>Filecoin</td>\n      <td>Avengers</td>\n      <td>nebula@example.com</td>\n      <td>🦸</td>\n      <td>Steve Rogers</td>\n      <td>Nick Fury</td>\n      <td>steve@example.com</td>\n      <td>nick@example.com</td>\n    </tr>\n    <tr>\n      <th>Iron Man</th>\n      <td>Go</td>\n      <td>Avengers</td>\n      <td>ironman@example.com</td>\n      <td>🦸</td>\n      <td>Steve Rogers</td>\n      <td>Nick Fury</td>\n      <td>steve@example.com</td>\n      <td>nick@example.com</td>\n    </tr>\n    <tr>\n      <th>Black Widow</th>\n      <td>Go</td>\n      <td>Avengers</td>\n      <td>blackwidow@example.com</td>\n      <td>🦸</td>\n      <td>Steve Rogers</td>\n      <td>Nick Fury</td>\n      <td>steve@example.com</td>\n      <td>nick@example.com</td>\n    </tr>\n    <tr>\n      <th>Vision</th>\n      <td>Go</td>\n      <td>Avengers</td>\n      <td>vision@example.com</td>\n      <td>🦸</td>\n      <td>Steve Rogers</td>\n      <td>Nick Fury</td>\n      <td>steve@example.com</td>\n      <td>nick@example.com</td>\n    </tr>\n    <tr>\n      <th>Spider-Man</th>\n      <td>Go</td>\n      <td>Avengers</td>\n      <td>spiderman@example.com</td>\n      <td>🦸</td>\n      <td>Steve Rogers</td>\n      <td>Nick Fury</td>\n      <td>steve@example.com</td>\n      <td>nick@example.com</td>\n    </tr>\n    <tr>\n      <th>Rocket</th>\n      <td>Go</td>\n      <td>Avengers</td>\n      <td>rocket@example.com</td>\n      <td>🦸</td>\n      <td>Steve Rogers</td>\n      <td>Nick Fury</td>\n      <td>steve@example.com</td>\n      <td>nick@example.com</td>\n    </tr>\n    <tr>\n      <th>Thor Odinson</th>\n      <td>JavaScript</td>\n      <td>Avengers</td>\n      <td>thor@example.com</td>\n      <td>🦸</td>\n      <td>Steve Rogers</td>\n      <td>Nick Fury</td>\n      <td>steve@example.com</td>\n      <td>nick@example.com</td>\n    </tr>\n    <tr>\n      <th>Hawkeye</th>\n      <td>JavaScript</td>\n      <td>Avengers</td>\n      <td>hawkeye@example.com</td>\n      <td>🦸</td>\n      <td>Steve Rogers</td>\n      <td>Nick Fury</td>\n      <td>steve@example.com</td>\n      <td>nick@example.com</td>\n    </tr>\n    <tr>\n      <th>Scarlet Witch</th>\n      <td>JavaScript</td>\n      <td>Avengers</td>\n      <td>scarletwitch@example.com</td>\n      <td>🦸</td>\n      <td>Steve Rogers</td>\n      <td>Nick Fury</td>\n      <td>steve@example.com</td>\n      <td>nick@example.com</td>\n    </tr>\n    <tr>\n      <th>Ant-Man</th>\n      <td>JavaScript</td>\n      <td>Avengers</td>\n      <td>antman@example.com</td>\n      <td>🦸</td>\n      <td>Steve Rogers</td>\n      <td>Nick Fury</td>\n      <td>steve@example.com</td>\n      <td>nick@example.com</td>\n    </tr>\n    <tr>\n      <th>Count Dooku</th>\n      <td>Filecoin</td>\n      <td>Empire</td>\n      <td>dooku@example.com</td>\n      <td>🪖</td>\n      <td>Darth Vader</td>\n      <td>Emperor Palpatine</td>\n      <td>vader@example.com</td>\n      <td>palpatine@example.com</td>\n    </tr>\n    <tr>\n      <th>IG-88</th>\n      <td>Filecoin</td>\n      <td>Empire</td>\n      <td>ig88@example.com</td>\n      <td>🪖</td>\n      <td>Darth Vader</td>\n      <td>Emperor Palpatine</td>\n      <td>vader@example.com</td>\n      <td>palpatine@example.com</td>\n    </tr>\n    <tr>\n      <th>Boba Fett</th>\n      <td>Go</td>\n      <td>Empire</td>\n      <td>boba@example.com</td>\n      <td>🪖</td>\n      <td>Darth Vader</td>\n      <td>Emperor Palpatine</td>\n      <td>vader@example.com</td>\n      <td>palpatine@example.com</td>\n    </tr>\n    <tr>\n      <th>Jabba the Hutt</th>\n      <td>Go</td>\n      <td>Empire</td>\n      <td>jabba@example.com</td>\n      <td>🪖</td>\n      <td>Darth Vader</td>\n      <td>Emperor Palpatine</td>\n      <td>vader@example.com</td>\n      <td>palpatine@example.com</td>\n    </tr>\n    <tr>\n      <th>Kylo Ren</th>\n      <td>JavaScript</td>\n      <td>Empire</td>\n      <td>kylo@example.com</td>\n      <td>🪖</td>\n      <td>Darth Vader</td>\n      <td>Emperor Palpatine</td>\n      <td>vader@example.com</td>\n      <td>palpatine@example.com</td>\n    </tr>\n    <tr>\n      <th>Jango Fett</th>\n      <td>JavaScript</td>\n      <td>Empire</td>\n      <td>jango@example.com</td>\n      <td>🪖</td>\n      <td>Darth Vader</td>\n      <td>Emperor Palpatine</td>\n      <td>vader@example.com</td>\n      <td>palpatine@example.com</td>\n    </tr>\n    <tr>\n      <th>Samwise</th>\n      <td>Filecoin</td>\n      <td>Fellowship</td>\n      <td>samwise@example.com</td>\n      <td>💍</td>\n      <td>Aragon</td>\n      <td>Gandalf</td>\n      <td>aragon@example.com</td>\n      <td>gandalf@example.com</td>\n    </tr>\n    <tr>\n      <th>Boromir</th>\n      <td>Filecoin</td>\n      <td>Fellowship</td>\n      <td>boromir@example.com</td>\n      <td>💍</td>\n      <td>Aragon</td>\n      <td>Gandalf</td>\n      <td>aragon@example.com</td>\n      <td>gandalf@example.com</td>\n    </tr>\n    <tr>\n      <th>Merry</th>\n      <td>Go</td>\n      <td>Fellowship</td>\n      <td>merry@example.com</td>\n      <td>💍</td>\n      <td>Aragon</td>\n      <td>Gandalf</td>\n      <td>aragon@example.com</td>\n      <td>gandalf@example.com</td>\n    </tr>\n    <tr>\n      <th>Legolas</th>\n      <td>Go</td>\n      <td>Fellowship</td>\n      <td>legolas@example.com</td>\n      <td>💍</td>\n      <td>Aragon</td>\n      <td>Gandalf</td>\n      <td>aragon@example.com</td>\n      <td>gandalf@example.com</td>\n    </tr>\n    <tr>\n      <th>Frodo</th>\n      <td>JavaScript</td>\n      <td>Fellowship</td>\n      <td>frodo@example.com</td>\n      <td>💍</td>\n      <td>Aragon</td>\n      <td>Gandalf</td>\n      <td>aragon@example.com</td>\n      <td>gandalf@example.com</td>\n    </tr>\n    <tr>\n      <th>Pippin</th>\n      <td>JavaScript</td>\n      <td>Fellowship</td>\n      <td>pippin@example.com</td>\n      <td>💍</td>\n      <td>Aragon</td>\n      <td>Gandalf</td>\n      <td>aragon@example.com</td>\n      <td>gandalf@example.com</td>\n    </tr>\n    <tr>\n      <th>Gimli</th>\n      <td>JavaScript</td>\n      <td>Fellowship</td>\n      <td>gimli@example.com</td>\n      <td>💍</td>\n      <td>Aragon</td>\n      <td>Gandalf</td>\n      <td>aragon@example.com</td>\n      <td>gandalf@example.com</td>\n    </tr>\n    <tr>\n      <th>Lando Calrissian</th>\n      <td>Filecoin</td>\n      <td>Rebels</td>\n      <td>lando@example.com</td>\n      <td>🤜</td>\n      <td>Leia Organa</td>\n      <td>Admiral Ackbar</td>\n      <td>leia@example.com</td>\n      <td>ackbar@example.com</td>\n    </tr>\n    <tr>\n      <th>Obi-Wan Kenobi</th>\n      <td>Filecoin</td>\n      <td>Rebels</td>\n      <td>kenobi@example.com</td>\n      <td>🤜</td>\n      <td>Leia Organa</td>\n      <td>Admiral Ackbar</td>\n      <td>leia@example.com</td>\n      <td>ackbar@example.com</td>\n    </tr>\n    <tr>\n      <th>Han Solo</th>\n      <td>Filecoin</td>\n      <td>Rebels</td>\n      <td>han@example.com</td>\n      <td>🤜</td>\n      <td>Leia Organa</td>\n      <td>Admiral Ackbar</td>\n      <td>leia@example.com</td>\n      <td>ackbar@example.com</td>\n    </tr>\n    <tr>\n      <th>Mace Windu</th>\n      <td>Filecoin</td>\n      <td>Rebels</td>\n      <td>mace@example.com</td>\n      <td>🤜</td>\n      <td>Leia Organa</td>\n      <td>Admiral Ackbar</td>\n      <td>leia@example.com</td>\n      <td>ackbar@example.com</td>\n    </tr>\n    <tr>\n      <th>Chewbacca</th>\n      <td>Go</td>\n      <td>Rebels</td>\n      <td>chewie@example.com</td>\n      <td>🤜</td>\n      <td>Leia Organa</td>\n      <td>Admiral Ackbar</td>\n      <td>leia@example.com</td>\n      <td>ackbar@example.com</td>\n    </tr>\n    <tr>\n      <th>R2-D2</th>\n      <td>Go</td>\n      <td>Rebels</td>\n      <td>r2d2@example.com</td>\n      <td>🤜</td>\n      <td>Leia Organa</td>\n      <td>Admiral Ackbar</td>\n      <td>leia@example.com</td>\n      <td>ackbar@example.com</td>\n    </tr>\n    <tr>\n      <th>Ahsoka Tano</th>\n      <td>Go</td>\n      <td>Rebels</td>\n      <td>ahsoka@example.com</td>\n      <td>🤜</td>\n      <td>Leia Organa</td>\n      <td>Admiral Ackbar</td>\n      <td>leia@example.com</td>\n      <td>ackbar@example.com</td>\n    </tr>\n    <tr>\n      <th>Yoda</th>\n      <td>Go</td>\n      <td>Rebels</td>\n      <td>yoda@example.com</td>\n      <td>🤜</td>\n      <td>Leia Organa</td>\n      <td>Admiral Ackbar</td>\n      <td>leia@example.com</td>\n      <td>ackbar@example.com</td>\n    </tr>\n    <tr>\n      <th>Qui-Gon Jinn</th>\n      <td>JavaScript</td>\n      <td>Rebels</td>\n      <td>qgc@example.com</td>\n      <td>🤜</td>\n      <td>Leia Organa</td>\n      <td>Admiral Ackbar</td>\n      <td>leia@example.com</td>\n      <td>ackbar@example.com</td>\n    </tr>\n    <tr>\n      <th>Luke Skywalker</th>\n      <td>JavaScript</td>\n      <td>Rebels</td>\n      <td>luke@example.com</td>\n      <td>🤜</td>\n      <td>Leia Organa</td>\n      <td>Admiral Ackbar</td>\n      <td>leia@example.com</td>\n      <td>ackbar@example.com</td>\n    </tr>\n    <tr>\n      <th>Wedge Antilles</th>\n      <td>JavaScript</td>\n      <td>Rebels</td>\n      <td>wedge@example.com</td>\n      <td>🤜</td>\n      <td>Leia Organa</td>\n      <td>Admiral Ackbar</td>\n      <td>leia@example.com</td>\n      <td>ackbar@example.com</td>\n    </tr>\n  </tbody>\n</table>\n</div>"
     },
     "metadata": {},
     "execution_count": 21
    }
   ],
   "source": [
    "oncalls_with_all_metadata_df = oncalls_df.join(other=teams_with_emails_df, on=\"team\")\n",
    "oncalls_with_all_metadata_df"
   ]
  },
  {
   "cell_type": "code",
   "execution_count": null,
   "metadata": {},
   "outputs": [],
   "source": []
  }
 ]
}